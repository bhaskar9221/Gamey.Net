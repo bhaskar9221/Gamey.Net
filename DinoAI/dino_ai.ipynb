{
 "cells": [
  {
   "cell_type": "code",
   "execution_count": 8,
   "metadata": {},
   "outputs": [],
   "source": [
    "#Dependencies\n",
    "\n",
    "\n",
    "\n",
    "#For Capturing the Screen\n",
    "from mss import mss\n",
    "\n",
    "#For sending in the inputs to the game\n",
    "import pydirectinput\n",
    "import numpy as np\n",
    "import pytesseract\n",
    "import cv2\n",
    "import matplotlib.pyplot as plt\n",
    "\n",
    "\n",
    "#Using it for pausing\n",
    "import time\n",
    "\n",
    "#For the game Enviorment\n",
    "from gym import Env\n",
    "from gym.spaces import Box, Discrete"
   ]
  },
  {
   "cell_type": "markdown",
   "metadata": {},
   "source": [
    "## Building the Enviorment"
   ]
  },
  {
   "cell_type": "code",
   "execution_count": null,
   "metadata": {},
   "outputs": [],
   "source": [
    "class WebGame(Env):\n",
    "\n",
    "    #Setting up the enviorment action and observation states\n",
    "    def __init__(self):\n",
    "        pass\n",
    "\n",
    "    \n",
    "    def step(self,action):\n",
    "        pass "
   ]
  }
 ],
 "metadata": {
  "kernelspec": {
   "display_name": "gamey",
   "language": "python",
   "name": "python3"
  },
  "language_info": {
   "codemirror_mode": {
    "name": "ipython",
    "version": 3
   },
   "file_extension": ".py",
   "mimetype": "text/x-python",
   "name": "python",
   "nbconvert_exporter": "python",
   "pygments_lexer": "ipython3",
   "version": "3.9.21"
  }
 },
 "nbformat": 4,
 "nbformat_minor": 2
}
